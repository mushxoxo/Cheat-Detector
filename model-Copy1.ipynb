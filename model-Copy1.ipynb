{
 "cells": [
  {
   "cell_type": "code",
   "execution_count": 2,
   "id": "359a8cd9-0f62-4cf9-92eb-42097d3adfed",
   "metadata": {},
   "outputs": [],
   "source": [
    "\n",
    "# Step 1: Imports\n",
    "import os\n",
    "import glob\n",
    "import pandas as pd\n",
    "import numpy as np\n",
    "import cv2\n",
    "import matplotlib.pyplot as plt\n",
    "from sklearn.model_selection import train_test_split\n",
    "from tensorflow.keras.models import Sequential\n",
    "from tensorflow.keras.layers import Conv2D, MaxPooling2D, Flatten, Dense\n",
    "from tensorflow.keras.utils import to_categorical"
   ]
  },
  {
   "cell_type": "code",
   "execution_count": 3,
   "id": "2546977b-d217-4c7e-9ee1-4511e0551bdd",
   "metadata": {},
   "outputs": [],
   "source": [
    "# Step 2: Load image paths and labels\n",
    "base_path = \"Cheat Database\"\n",
    "scenario_dirs = sorted([os.path.join(base_path, d) for d in os.listdir(base_path) if d.startswith(\"Scenario\")])\n",
    "\n",
    "image_paths = []\n",
    "labels = []\n",
    "\n",
    "for scenario_path in scenario_dirs:\n",
    "    label = int(scenario_path.split(\"Scenario \")[1]) - 1\n",
    "    for img_path in glob.glob(os.path.join(scenario_path, \"*.jpg\")):\n",
    "        image_paths.append(img_path)\n",
    "        labels.append(label)\n"
   ]
  },
  {
   "cell_type": "code",
   "execution_count": 4,
   "id": "2d3cff2f-c787-4e5c-b121-5b578e812e58",
   "metadata": {},
   "outputs": [
    {
     "name": "stdout",
     "output_type": "stream",
     "text": [
      "                                  image_path  label\n",
      "0  Cheat Database/Scenario 1/S1_00000002.jpg      0\n",
      "1  Cheat Database/Scenario 1/S1_00000001.jpg      0\n",
      "2  Cheat Database/Scenario 1/S1_00000000.jpg      0\n",
      "3  Cheat Database/Scenario 1/S1_00000004.jpg      0\n",
      "4  Cheat Database/Scenario 1/S1_00000003.jpg      0\n"
     ]
    }
   ],
   "source": [
    "# Step 3: Create DataFrame\n",
    "df = pd.DataFrame({\"image_path\": image_paths, \"label\": labels})\n",
    "print(df.head())"
   ]
  },
  {
   "cell_type": "code",
   "execution_count": 5,
   "id": "c262807f-61a1-42b8-9674-db306398f897",
   "metadata": {},
   "outputs": [],
   "source": [
    "# Step 4: Load and preprocess images\n",
    "X = []\n",
    "y = []\n",
    "\n",
    "for idx, row in df.iterrows():\n",
    "    img = cv2.imread(row[\"image_path\"])\n",
    "    if img is None:\n",
    "        continue\n",
    "    img = cv2.resize(img, (224, 224))\n",
    "    X.append(img)\n",
    "    y.append(row[\"label\"])\n",
    "\n",
    "X = np.array(X) / 255.0\n",
    "y = np.array(y)\n",
    "y_cat = to_categorical(y)\n"
   ]
  },
  {
   "cell_type": "code",
   "execution_count": 1,
   "id": "2d2dfdad-ec00-4135-94fc-62539ad2e513",
   "metadata": {},
   "outputs": [
    {
     "ename": "NameError",
     "evalue": "name 'train_test_split' is not defined",
     "output_type": "error",
     "traceback": [
      "\u001b[31m---------------------------------------------------------------------------\u001b[39m",
      "\u001b[31mNameError\u001b[39m                                 Traceback (most recent call last)",
      "\u001b[36mCell\u001b[39m\u001b[36m \u001b[39m\u001b[32mIn[1]\u001b[39m\u001b[32m, line 2\u001b[39m\n\u001b[32m      1\u001b[39m \u001b[38;5;66;03m# Step 5: Split data\u001b[39;00m\n\u001b[32m----> \u001b[39m\u001b[32m2\u001b[39m X_train, X_test, y_train, y_test = \u001b[43mtrain_test_split\u001b[49m(X, y_cat, test_size=\u001b[32m0.2\u001b[39m, random_state=\u001b[32m42\u001b[39m)\n",
      "\u001b[31mNameError\u001b[39m: name 'train_test_split' is not defined"
     ]
    }
   ],
   "source": [
    "# Step 5: Split data\n",
    "X_train, X_test, y_train, y_test = train_test_split(X, y_cat, test_size=0.2, random_state=42)"
   ]
  },
  {
   "cell_type": "code",
   "execution_count": null,
   "id": "e6f8da70-e2fe-4caf-93d8-45a13024e28e",
   "metadata": {},
   "outputs": [],
   "source": [
    "# Step 6: Define model\n",
    "model = Sequential([\n",
    "    Conv2D(32, (3, 3), activation=\"relu\", input_shape=(224, 224, 3)),\n",
    "    MaxPooling2D(2, 2),\n",
    "    Conv2D(64, (3, 3), activation=\"relu\"),\n",
    "    MaxPooling2D(2, 2),\n",
    "    Flatten(),\n",
    "    Dense(128, activation=\"relu\"),\n",
    "    Dense(len(np.unique(y)), activation=\"softmax\")\n",
    "])"
   ]
  },
  {
   "cell_type": "code",
   "execution_count": null,
   "id": "3c1582b3-5264-4f44-8d00-08b291326b86",
   "metadata": {},
   "outputs": [],
   "source": [
    "# Step 7: Compile and train\n",
    "model.compile(optimizer=\"adam\", loss=\"categorical_crossentropy\", metrics=[\"accuracy\"])\n",
    "model.fit(X_train, y_train, epochs=10, validation_data=(X_test, y_test))"
   ]
  },
  {
   "cell_type": "code",
   "execution_count": null,
   "id": "339cbf51-863d-4de8-ad62-5e82eb5ed309",
   "metadata": {},
   "outputs": [],
   "source": [
    "# Step 8: Evaluate\n",
    "loss, acc = model.evaluate(X_test, y_test)\n",
    "print(f\"Test Accuracy: {acc:.2f}\")"
   ]
  }
 ],
 "metadata": {
  "kernelspec": {
   "display_name": "Python 3 (ipykernel)",
   "language": "python",
   "name": "python3"
  },
  "language_info": {
   "codemirror_mode": {
    "name": "ipython",
    "version": 3
   },
   "file_extension": ".py",
   "mimetype": "text/x-python",
   "name": "python",
   "nbconvert_exporter": "python",
   "pygments_lexer": "ipython3",
   "version": "3.11.9"
  }
 },
 "nbformat": 4,
 "nbformat_minor": 5
}
